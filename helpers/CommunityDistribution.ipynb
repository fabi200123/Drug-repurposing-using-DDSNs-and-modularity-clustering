{
 "cells": [
  {
   "cell_type": "code",
   "execution_count": 15,
   "metadata": {},
   "outputs": [],
   "source": [
    "import psycopg2 as psycopg2\n",
    "from string import Template\n",
    "import pylab\n",
    "\n",
    "conn = psycopg2.connect(\n",
    "    host=\"localhost\",\n",
    "    database=\"drugbank\",\n",
    "    user=\"drugbank\",\n",
    "    password=\"drugbank\",\n",
    "    port=5433)\n",
    "\n",
    "    "
   ]
  },
  {
   "cell_type": "code",
   "execution_count": 16,
   "metadata": {},
   "outputs": [],
   "source": [
    "### Process Data\n",
    "drugCommunityDistribution={}\n",
    "drugCommunities={}\n",
    "for i in range(0,99):\n",
    "    communityDistribution = {\n",
    "    \"V\": set(), \n",
    "    \"M\": set(), \n",
    "    \"D\": set(), \n",
    "    \"B\": set(), \n",
    "    \"S\": set(), \n",
    "    \"N\": set(), \n",
    "    \"L\": set(), \n",
    "    \"G\": set(), \n",
    "    \"J\": set(), \n",
    "    \"P\": set(), \n",
    "    \"A\": set(), \n",
    "    \"R\": set(), \n",
    "    \"C\": set(), \n",
    "    \"H\": set() \n",
    "    } \n",
    "\n",
    "    cursor = conn.cursor()\n",
    "    ### select drugbank desired resolution and version \n",
    "\n",
    "    t = \"\"\"select drugs.name, drugs_resolution.modularity_class, drugs.atc_code as first_letter \n",
    "            FROM public.all_drugs_info as drugs\n",
    "            LEFT JOIN public.drugs_resolution \n",
    "            ON drugs.name = drugs_resolution.name \n",
    "            WHERE CARDINALITY(atc_code) != 0 AND cardinality(drugs.gene_target_ids_array)!= 0 \n",
    "                AND drugs_resolution.drugbank_version = '5.1.11'\n",
    "                AND drugs_resolution.resolution = '2.0'\n",
    "                AND drugs_resolution.modularity_class = '\"\"\" + str(i) + \"\"\"'\"\"\"\n",
    "#     print(t)\n",
    "    #     t.format(modularityClass=modularityClass)\n",
    "    cursor.execute(t, (i,))\n",
    "\n",
    "    # display the PostgreSQL database server version\n",
    "    drugs = cursor.fetchall()\n",
    "    drugCommunities[i]=drugs\n",
    "    # close the communication with the PostgreSQL\n",
    "    cursor.close()\n",
    "\n",
    "    for j in range(0,len(drugs)):\n",
    "        for k in range(0, len(drugs[j][2])):\n",
    "            atcCode = drugs[j][2][k]\n",
    "            firstAtcLetter = atcCode[0:1]\n",
    "            communityDistribution[firstAtcLetter].add(drugs[j][0])\n",
    "            \n",
    "    drugCommunityDistribution[i] = communityDistribution\n",
    "\n",
    "        \n",
    "    \n"
   ]
  },
  {
   "cell_type": "code",
   "execution_count": 17,
   "metadata": {},
   "outputs": [
    {
     "data": {
      "image/png": "[encoded data removed]",
      "text/plain": [
       "<Figure size 640x480 with 1 Axes>"
      ]
     },
     "metadata": {},
     "output_type": "display_data"
    }
   ],
   "source": [
    "### Select class\n",
    "modularity = 9\n",
    "for key in drugCommunityDistribution[modularity]:\n",
    "    pylab.bar(key,len(drugCommunityDistribution[modularity][key]))\n",
    "\n",
    "# pylab.title(\"atc levels frequency\")\n",
    "pylab.xlabel(\"First Level ATC codes\", fontsize=20)\n",
    "pylab.ylabel(\"count\", fontsize=20)\n",
    "\n",
    "# print(drugCommunityDistribution[modularity][\"C\"])\n",
    "# print(drugCommunities[modularity])\n",
    "# print(len(drugCommunityDistribution[modularity][\"R\"]))\n",
    "# print(len(drugCommunityDistribution[modularity][\"N\"]))\n",
    "\n",
    "finalSet = set()\n",
    "\n",
    "for key in drugCommunityDistribution[modularity]:\n",
    "    finalSet = set.union(finalSet,drugCommunityDistribution[modularity][key])\n",
    "\n",
    "pylab.savefig('community9.svg')\n",
    "# print(finalSet)    \n",
    "# print(len(finalSet))"
   ]
  },
  {
   "cell_type": "code",
   "execution_count": 18,
   "metadata": {},
   "outputs": [
    {
     "name": "stdout",
     "output_type": "stream",
     "text": [
      "R\n",
      "26\n"
     ]
    }
   ],
   "source": [
    "excludedDrugsList = list()\n",
    "\n",
    "maxCount = 0\n",
    "maxKey = 'C'\n",
    "for key in drugCommunityDistribution[modularity]:\n",
    "#     print(key , len(drugCommunityDistribution[modularity][key]))\n",
    "    if maxCount < len(drugCommunityDistribution[modularity][key]):\n",
    "        maxCount = len(drugCommunityDistribution[modularity][key])\n",
    "        maxKey = key\n",
    "\n",
    "# print(maxCount)\n",
    "print(maxKey)\n",
    "\n",
    "### Get all the drugs that are not in the exclusion atc group\n",
    "\n",
    "def myFunc(x):\n",
    "  for val in drugCommunityDistribution[modularity][maxKey]:\n",
    "      if x[0] == val:\n",
    "        return False\n",
    "  \n",
    "  return True \n",
    "\n",
    "excludedDrugs = list(filter(myFunc, drugCommunities[modularity]))\n",
    "\n",
    "# for x in excludedDrugs:\n",
    "#   print(x)\n",
    "for key in excludedDrugs:\n",
    "    key = list(key)\n",
    "    key.append(maxKey)\n",
    "    key = tuple(key)\n",
    "    excludedDrugsList.append(key)\n",
    "#     print(key)\n",
    "    \n",
    "# type()\n",
    "\n",
    "print(len(excludedDrugsList))\n",
    "# \n",
    "\n",
    "# cursor = conn.cursor()x1\n",
    "# t = \"\"\"INSERT INTO public.drug_candidates(\n",
    "# name, modularity_class, atc_code, target_atc)\n",
    "# VALUES (excludedDrugs, ?, ?, ?)\"\"\"\n",
    "\n",
    "# #     t.format(modularityClass=modularityClass)\n",
    "# cursor.execute(t)\n",
    "\n",
    "# # display the PostgreSQL database server version\n",
    "# drugs = cursor.fetchall()\n",
    "# drugCommunities[i]=drugs\n",
    "# # close the communication with the PostgreSQL\n",
    "# cursor.close()\n",
    "\n"
   ]
  },
  {
   "cell_type": "code",
   "execution_count": 19,
   "metadata": {
    "scrolled": true
   },
   "outputs": [
    {
     "name": "stdout",
     "output_type": "stream",
     "text": [
      "{'V': {'Lysine', 'Fluciclovine (18F)', 'Gadopentetic acid'}, 'M': set(), 'D': {'Urea'}, 'B': {'Lysine', 'Urea'}, 'S': {'Emedastine', 'Alcaftadine'}, 'N': {'Flunarizine', 'Sulthiame', 'Lamotrigine'}, 'L': {'Dacarbazine', 'Streptozocin'}, 'G': {'Sulthiame'}, 'J': set(), 'P': set(), 'A': {'Repaglinide', 'Ornithine'}, 'R': set(), 'C': set(), 'H': set()}\n"
     ]
    },
    {
     "data": {
      "text/plain": [
       "Text(0, 0.5, 'count')"
      ]
     },
     "execution_count": 19,
     "metadata": {},
     "output_type": "execute_result"
    },
    {
     "data": {
      "image/png": "[encoded data removed]",
      "text/plain": [
       "<Figure size 640x480 with 1 Axes>"
      ]
     },
     "metadata": {},
     "output_type": "display_data"
    }
   ],
   "source": [
    "excludedCommunityDistribution = {\n",
    "    \"V\": set(), \n",
    "    \"M\": set(), \n",
    "    \"D\": set(), \n",
    "    \"B\": set(), \n",
    "    \"S\": set(), \n",
    "    \"N\": set(), \n",
    "    \"L\": set(), \n",
    "    \"G\": set(), \n",
    "    \"J\": set(), \n",
    "    \"P\": set(), \n",
    "    \"A\": set(), \n",
    "    \"R\": set(), \n",
    "    \"C\": set(), \n",
    "    \"H\": set() \n",
    "    }\n",
    "    \n",
    "for x in excludedDrugs:\n",
    "    for k in range(0, len(x[2])):\n",
    "        atcCode = x[2][k]\n",
    "        firstAtcLetter = atcCode[0:1]\n",
    "        excludedCommunityDistribution[firstAtcLetter].add(x[0])\n",
    "\n",
    "print(excludedCommunityDistribution)        \n",
    "        \n",
    "for key in excludedCommunityDistribution:\n",
    "    pylab.bar(key,len(excludedCommunityDistribution[key]))\n",
    "    \n",
    "# pylab.title(\"atc levels frequency\")\n",
    "pylab.xlabel(\"atc levels\")\n",
    "pylab.ylabel(\"count\")    "
   ]
  },
  {
   "cell_type": "code",
   "execution_count": 20,
   "metadata": {},
   "outputs": [
    {
     "name": "stdout",
     "output_type": "stream",
     "text": [
      "{'V': {'Lysine', 'Fluciclovine (18F)', 'Gadopentetic acid'}, 'M': set(), 'D': {'Urea'}, 'B': {'Lysine', 'Urea'}, 'S': {'Emedastine', 'Alcaftadine'}, 'N': {'Flunarizine', 'Sulthiame', 'Lamotrigine'}, 'L': {'Dacarbazine', 'Streptozocin'}, 'G': {'Sulthiame'}, 'J': set(), 'P': set(), 'A': {'Repaglinide', 'Ornithine'}, 'R': set(), 'C': set(), 'H': set()}\n"
     ]
    }
   ],
   "source": [
    "print(excludedCommunityDistribution)"
   ]
  },
  {
   "cell_type": "code",
   "execution_count": 21,
   "metadata": {},
   "outputs": [
    {
     "name": "stdout",
     "output_type": "stream",
     "text": [
      "42\n"
     ]
    }
   ],
   "source": [
    "finalSetinio = set()\n",
    "for key in excludedCommunityDistribution:\n",
    "    finalSetinio = set.union(finalSet,excludedCommunityDistribution[key])\n",
    "    \n",
    "\n",
    "print(len(finalSetinio))"
   ]
  },
  {
   "cell_type": "code",
   "execution_count": 22,
   "metadata": {},
   "outputs": [
    {
     "name": "stdout",
     "output_type": "stream",
     "text": [
      "{\n",
      "    \"V\": [\n",
      "        \"Lysine\",\n",
      "        \"Fluciclovine (18F)\",\n",
      "        \"Gadopentetic acid\"\n",
      "    ],\n",
      "    \"M\": [],\n",
      "    \"D\": [\n",
      "        \"Urea\"\n",
      "    ],\n",
      "    \"B\": [\n",
      "        \"Lysine\",\n",
      "        \"Urea\"\n",
      "    ],\n",
      "    \"S\": [\n",
      "        \"Emedastine\",\n",
      "        \"Alcaftadine\"\n",
      "    ],\n",
      "    \"N\": [\n",
      "        \"Flunarizine\",\n",
      "        \"Sulthiame\",\n",
      "        \"Lamotrigine\"\n",
      "    ],\n",
      "    \"L\": [\n",
      "        \"Dacarbazine\",\n",
      "        \"Streptozocin\"\n",
      "    ],\n",
      "    \"G\": [\n",
      "        \"Sulthiame\"\n",
      "    ],\n",
      "    \"J\": [],\n",
      "    \"P\": [],\n",
      "    \"A\": [\n",
      "        \"Repaglinide\",\n",
      "        \"Ornithine\"\n",
      "    ],\n",
      "    \"R\": [],\n",
      "    \"C\": [],\n",
      "    \"H\": []\n",
      "}\n"
     ]
    }
   ],
   "source": [
    "# Return the result in a json format based on ATC Codes\n",
    "import json\n",
    "\n",
    "# Assuming 'excludedCommunityDistribution' is your dictionary\n",
    "# Convert sets to lists for JSON serialization\n",
    "ConvertedExcludedCommunityDistribution = {\n",
    "    k: list(v) for k, v in excludedCommunityDistribution.items()\n",
    "}\n",
    "\n",
    "# Serialize to JSON\n",
    "json_output = json.dumps(ConvertedExcludedCommunityDistribution, indent=4)\n",
    "print(json_output)\n",
    "\n",
    "# Optionally save to file\n",
    "with open('output.json', 'w') as f:\n",
    "    json.dump(ConvertedExcludedCommunityDistribution, f, indent=4)\n"
   ]
  }
 ],
 "metadata": {
  "kernelspec": {
   "display_name": "Python 3",
   "language": "python",
   "name": "python3"
  },
  "language_info": {
   "codemirror_mode": {
    "name": "ipython",
    "version": 3
   },
   "file_extension": ".py",
   "mimetype": "text/x-python",
   "name": "python",
   "nbconvert_exporter": "python",
   "pygments_lexer": "ipython3",
   "version": "3.7.16"
  }
 },
 "nbformat": 4,
 "nbformat_minor": 4
}
